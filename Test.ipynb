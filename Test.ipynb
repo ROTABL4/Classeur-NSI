{
 "cells": [
  {
   "cell_type": "code",
   "execution_count": 2,
   "id": "9267d823",
   "metadata": {},
   "outputs": [
    {
     "data": {
      "text/plain": [
       "87096"
      ]
     },
     "execution_count": 2,
     "metadata": {},
     "output_type": "execute_result"
    }
   ],
   "source": [
    "228*382\n"
   ]
  },
  {
   "cell_type": "markdown",
   "id": "8db00728",
   "metadata": {},
   "source": [
    "Toto est dans la place "
   ]
  },
  {
   "cell_type": "markdown",
   "id": "528351f5",
   "metadata": {},
   "source": []
  }
 ],
 "metadata": {
  "kernelspec": {
   "display_name": "Python 3",
   "language": "python",
   "name": "python3"
  },
  "language_info": {
   "codemirror_mode": {
    "name": "ipython",
    "version": 3
   },
   "file_extension": ".py",
   "mimetype": "text/x-python",
   "name": "python",
   "nbconvert_exporter": "python",
   "pygments_lexer": "ipython3",
   "version": "3.12.1"
  }
 },
 "nbformat": 4,
 "nbformat_minor": 5
}
